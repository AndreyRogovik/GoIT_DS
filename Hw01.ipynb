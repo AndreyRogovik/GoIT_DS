{
  "nbformat": 4,
  "nbformat_minor": 0,
  "metadata": {
    "colab": {
      "provenance": [],
      "name": "Hw01.ipynb",
      "authorship_tag": "ABX9TyPsbcv6UFG3vEtg0q6/+BuQ"
    },
    "kernelspec": {
      "name": "python3",
      "display_name": "Python 3"
    },
    "language_info": {
      "name": "python"
    }
  },
  "cells": [
    {
      "cell_type": "code",
      "source": [
        "import numpy as np\n"
      ],
      "metadata": {
        "id": "jjDAfX_gFq3D"
      },
      "execution_count": null,
      "outputs": []
    },
    {
      "cell_type": "markdown",
      "source": [
        "1. Створіть одновимірний масив (вектор) з першими 10-ма натуральними числами та виведіть його значення."
      ],
      "metadata": {
        "id": "Y7IdXrvGG-ek"
      }
    },
    {
      "cell_type": "code",
      "source": [
        "vector = np.arange(1, 11)\n",
        "print(\"Вектор з першими 10 натуральними числами:\", vector)"
      ],
      "metadata": {
        "colab": {
          "base_uri": "https://localhost:8080/"
        },
        "id": "-XtpGEaNG-I0",
        "outputId": "10cde890-27dd-444d-aa1f-8d30e027f371"
      },
      "execution_count": null,
      "outputs": [
        {
          "output_type": "stream",
          "name": "stdout",
          "text": [
            "Вектор з першими 10 натуральними числами: [ 1  2  3  4  5  6  7  8  9 10]\n"
          ]
        }
      ]
    },
    {
      "cell_type": "markdown",
      "source": [
        "2. Створіть двовимірний масив (матрицю) розміром 3x3, заповніть його нулями та виведіть його значення."
      ],
      "metadata": {
        "id": "dKWtlGiCIH6r"
      }
    },
    {
      "cell_type": "code",
      "source": [
        "matrix_zeros = np.zeros((3, 3))\n",
        "print(\"Матриця розміром 3x3 з нулями:\\n\", matrix_zeros)"
      ],
      "metadata": {
        "colab": {
          "base_uri": "https://localhost:8080/"
        },
        "id": "NawYOSvEIJZ9",
        "outputId": "c2c8c25c-accc-4575-a147-3b46326b1479"
      },
      "execution_count": null,
      "outputs": [
        {
          "output_type": "stream",
          "name": "stdout",
          "text": [
            "Матриця розміром 3x3 з нулями:\n",
            " [[0. 0. 0.]\n",
            " [0. 0. 0.]\n",
            " [0. 0. 0.]]\n"
          ]
        }
      ]
    },
    {
      "cell_type": "markdown",
      "source": [
        "3. Створіть масив розміром 5x5, заповніть його випадковими цілими числами в діапазоні від 1 до 10 та виведіть його значення."
      ],
      "metadata": {
        "id": "8f0qV74OMJIb"
      }
    },
    {
      "cell_type": "code",
      "source": [
        "matrix_random_integers = np.random.randint(1, 11, size=(5, 5))\n",
        "print(\"Масив розміром 5x5 з випадковими цілими числами в діапазоні від 1 до 10:\\n\", matrix_random_integers)\n"
      ],
      "metadata": {
        "colab": {
          "base_uri": "https://localhost:8080/"
        },
        "id": "Jha9phUxMLa1",
        "outputId": "ce0c85e6-1d6d-48e9-b9dd-8fee0de28565"
      },
      "execution_count": null,
      "outputs": [
        {
          "output_type": "stream",
          "name": "stdout",
          "text": [
            "Масив розміром 5x5 з випадковими цілими числами в діапазоні від 1 до 10:\n",
            " [[ 2  9  2  6  6]\n",
            " [ 6  7  9  3  6]\n",
            " [ 1  4  3 10  1]\n",
            " [ 6  5  4  6  9]\n",
            " [ 8  9  3  7  4]]\n"
          ]
        }
      ]
    },
    {
      "cell_type": "markdown",
      "source": [
        "4. Створіть масив розміром 4x4, заповніть його випадковими дійсними числами в діапазоні від 0 до 1 та виведіть його значення.\n"
      ],
      "metadata": {
        "id": "09UWU8CHMklL"
      }
    },
    {
      "cell_type": "code",
      "source": [
        "matrix_random_floats = np.random.rand(4, 4)\n",
        "print(\"Масив розміром 4x4 з випадковими дійсними числами в діапазоні від 0 до 1:\\n\", matrix_random_floats)\n"
      ],
      "metadata": {
        "colab": {
          "base_uri": "https://localhost:8080/"
        },
        "id": "vBSlbPA_MoOk",
        "outputId": "3a493781-96be-42af-b9b6-a5d7651b970c"
      },
      "execution_count": null,
      "outputs": [
        {
          "output_type": "stream",
          "name": "stdout",
          "text": [
            "Масив розміром 4x4 з випадковими дійсними числами в діапазоні від 0 до 1:\n",
            " [[0.45007067 0.55643056 0.47654762 0.62338219]\n",
            " [0.51698374 0.53412619 0.70871259 0.42404819]\n",
            " [0.07106397 0.0585422  0.79903258 0.57805069]\n",
            " [0.02952807 0.12785507 0.01966406 0.65199231]]\n"
          ]
        }
      ]
    },
    {
      "cell_type": "markdown",
      "source": [
        "5. Створіть два одновимірних масиви розміром 5, заповніть їх випадковими цілими числами в діапазоні від 1 до 10 та виконайте на них поелементні операції додавання, віднімання та множення.\n"
      ],
      "metadata": {
        "id": "ZplMWxfeMwZQ"
      }
    },
    {
      "cell_type": "code",
      "source": [
        "array1 = np.random.randint(1, 11, size=5)\n",
        "array2 = np.random.randint(1, 11, size=5)\n",
        "print(\"Перший масив:\", array1)\n",
        "print(\"Другий масив:\", array2)\n",
        "print(\"Додавання елементів двох масивів:\", np.add(array1, array2))\n",
        "print(\"Віднімання елементів другого выд першого масива:\", np.subtract(array1, array2))\n",
        "print(\"Множення елементів двох масивів:\", np.multiply(array1, array2))\n"
      ],
      "metadata": {
        "colab": {
          "base_uri": "https://localhost:8080/"
        },
        "id": "qUdOwQxEM0Of",
        "outputId": "cc3c519e-78fc-4689-8363-396edc2beca5"
      },
      "execution_count": null,
      "outputs": [
        {
          "output_type": "stream",
          "name": "stdout",
          "text": [
            "Перший масив: [ 2  7 10  5 10]\n",
            "Другий масив: [ 4 10  5  9  5]\n",
            "Додавання елементів двох масивів: [ 6 17 15 14 15]\n",
            "Віднімання елементів двох масивів: [-2 -3  5 -4  5]\n",
            "Множення елементів двох масивів: [ 8 70 50 45 50]\n"
          ]
        }
      ]
    },
    {
      "cell_type": "markdown",
      "source": [
        "6. Створіть два вектори розміром 7, заповніть довільними числами та знайдіть їх скалярний добуток."
      ],
      "metadata": {
        "id": "Rj-n_OMESaqE"
      }
    },
    {
      "cell_type": "code",
      "source": [
        "vector1 = np.random.randint(1, 11, size=7)\n",
        "vector2 = np.random.randint(1, 11, size=7)\n",
        "scalar_product = np.dot(vector1, vector2)\n",
        "print(\"Вектор №1: \", vector1)\n",
        "print(\"Вектор №2: \", vector2)\n",
        "print(\"Скалярний добуток двох векторів:\", scalar_product)"
      ],
      "metadata": {
        "colab": {
          "base_uri": "https://localhost:8080/"
        },
        "id": "yNJ8lulGSdCN",
        "outputId": "f5db1d68-b589-49ac-bdca-092bd0bd2ecb"
      },
      "execution_count": null,
      "outputs": [
        {
          "output_type": "stream",
          "name": "stdout",
          "text": [
            "Вектор №1:  [7 6 3 8 2 5 3]\n",
            "Вектор №2:  [ 1  5  8  3 10  6  3]\n",
            "Скалярний добуток двох векторів: 144\n"
          ]
        }
      ]
    },
    {
      "cell_type": "markdown",
      "source": [
        "7. Створіть дві матриці розміром 2x2 та 2x3, заповніть їх випадковими цілими числами в діапазоні від 1 до 10 та перемножте їх між собою.\n"
      ],
      "metadata": {
        "id": "9wIrNm_2V2uZ"
      }
    },
    {
      "cell_type": "code",
      "source": [
        "matrix1 = np.random.randint(1, 11, size=(2, 2))\n",
        "matrix2 = np.random.randint(1, 11, size=(2, 3))\n",
        "print(\"Матриця 1:\\n\", matrix1)\n",
        "print(\"Матриця 2:\\n\", matrix2)\n",
        "matrix_product = np.dot(matrix1, matrix2)\n",
        "print(\"Добуток двох матриць:\\n\", matrix_product)"
      ],
      "metadata": {
        "colab": {
          "base_uri": "https://localhost:8080/"
        },
        "id": "gNMcOLJMV24S",
        "outputId": "83d3087d-b063-41c8-cda3-b1b0723fbb28"
      },
      "execution_count": null,
      "outputs": [
        {
          "output_type": "stream",
          "name": "stdout",
          "text": [
            "Матриця 1:\n",
            " [[ 6  9]\n",
            " [ 2 10]]\n",
            "Матриця 2:\n",
            " [[10  6  9]\n",
            " [10  1  2]]\n",
            "Добуток двох матриць:\n",
            " [[150  45  72]\n",
            " [120  22  38]]\n"
          ]
        }
      ]
    },
    {
      "cell_type": "markdown",
      "source": [
        "8. Створіть матрицю розміром 3x3, заповніть її випадковими цілими числами в діапазоні від 1 до 10 та знайдіть її обернену матрицю.\n"
      ],
      "metadata": {
        "id": "wK-sA1ueWl0h"
      }
    },
    {
      "cell_type": "code",
      "source": [
        "matrix3 = np.random.randint(1, 11, size=(3, 3))\n",
        "print(\"Вихыдна матриця:\\n\", matrix3)\n",
        "inverse_matrix = np.linalg.inv(matrix3)\n",
        "print(\"Обернена матриця:\\n\", inverse_matrix)"
      ],
      "metadata": {
        "colab": {
          "base_uri": "https://localhost:8080/"
        },
        "id": "GRLcvoQeWn7G",
        "outputId": "4f5128ae-550e-48b5-d90a-2c3fd68dd619"
      },
      "execution_count": null,
      "outputs": [
        {
          "output_type": "stream",
          "name": "stdout",
          "text": [
            "Вихыдна матриця:\n",
            " [[ 5  3  6]\n",
            " [ 4  5  6]\n",
            " [ 3 10  9]]\n",
            "Обернена матриця:\n",
            " [[-0.71428571  1.57142857 -0.57142857]\n",
            " [-0.85714286  1.28571429 -0.28571429]\n",
            " [ 1.19047619 -1.95238095  0.61904762]]\n"
          ]
        }
      ]
    },
    {
      "cell_type": "markdown",
      "source": [
        "9. Створіть матрицю розміром 4x4, заповніть її випадковими дійсними числами в діапазоні від 0 до 1 та транспонуйте її.\n"
      ],
      "metadata": {
        "id": "5Jw66jTpau4f"
      }
    },
    {
      "cell_type": "code",
      "source": [
        "matrix4 = np.random.rand(4, 4)\n",
        "print(\"Вихыдна матриця:\\n\", matrix4)\n",
        "transposed_matrix = np.transpose(matrix4)\n",
        "print(\"Транспонована матриця:\\n\", transposed_matrix)"
      ],
      "metadata": {
        "colab": {
          "base_uri": "https://localhost:8080/"
        },
        "id": "__ofvf2javki",
        "outputId": "fcdcbe12-a99b-4819-c3ac-af04a3703f63"
      },
      "execution_count": null,
      "outputs": [
        {
          "output_type": "stream",
          "name": "stdout",
          "text": [
            "Вихыдна матриця:\n",
            " [[0.50396939 0.95811293 0.94332505 0.23916348]\n",
            " [0.70270749 0.71826387 0.4788463  0.03774854]\n",
            " [0.43977904 0.03203489 0.32507475 0.07453504]\n",
            " [0.06731804 0.5795253  0.98682134 0.58858896]]\n",
            "Транспонована матриця:\n",
            " [[0.50396939 0.70270749 0.43977904 0.06731804]\n",
            " [0.95811293 0.71826387 0.03203489 0.5795253 ]\n",
            " [0.94332505 0.4788463  0.32507475 0.98682134]\n",
            " [0.23916348 0.03774854 0.07453504 0.58858896]]\n"
          ]
        }
      ]
    },
    {
      "cell_type": "markdown",
      "source": [
        "10. Створіть матрицю розміром 3x4 та вектор розміром 4, заповніть їх випадковими цілими числами в діапазоні від 1 до 10 та перемножте матрицю на вектор.\n"
      ],
      "metadata": {
        "id": "iuXsDsoZbBzs"
      }
    },
    {
      "cell_type": "code",
      "source": [
        "matrix5 = np.random.randint(1, 11, size=(3, 4))\n",
        "print(\"Матриця:\\n\", matrix5)\n",
        "vector3 = np.random.randint(1, 11, size=4)\n",
        "print(\"Вектор::\\n\", vector3)\n",
        "matrix_vector_product = np.dot(matrix5, vector3)\n",
        "print(\"Добуток матриці на вектор::\\n\", matrix_vector_product)"
      ],
      "metadata": {
        "colab": {
          "base_uri": "https://localhost:8080/"
        },
        "id": "lJHt-0xubDqk",
        "outputId": "558b2a27-a6bc-4552-f7dc-5b9fd1a4f41d"
      },
      "execution_count": null,
      "outputs": [
        {
          "output_type": "stream",
          "name": "stdout",
          "text": [
            "Матриця:\n",
            " [[ 8  6  7  9]\n",
            " [10  4  3  9]\n",
            " [ 1  6 10  8]]\n",
            "Вектор::\n",
            " [7 4 7 2]\n",
            "Добуток матриці на вектор: [147 125 117]\n"
          ]
        }
      ]
    },
    {
      "cell_type": "markdown",
      "source": [
        "11. Створіть матрицю розміром 2x3 та вектор розміром 3, заповніть їх випадковими дійсними числами в діапазоні від 0 до 1 та перемножте матрицю на вектор.\n"
      ],
      "metadata": {
        "id": "2Jnxngu3cV6w"
      }
    },
    {
      "cell_type": "code",
      "source": [
        "matrix6 = np.random.rand(2, 3)\n",
        "vector4 = np.random.rand(3)\n",
        "matrix_vector_product = np.dot(matrix6, vector4)\n",
        "print(\"Добуток матриці на вектор:\", matrix_vector_product)\n"
      ],
      "metadata": {
        "colab": {
          "base_uri": "https://localhost:8080/"
        },
        "id": "2kC7TOMecWDx",
        "outputId": "c9f08f6d-163f-4bf5-b8be-127182269eb9"
      },
      "execution_count": null,
      "outputs": [
        {
          "output_type": "stream",
          "name": "stdout",
          "text": [
            "Добуток матриці на вектор: [1.06481667 0.88055555]\n"
          ]
        }
      ]
    },
    {
      "cell_type": "markdown",
      "source": [
        "12. Створіть дві матриці розміром 2x2, заповніть їх випадковими цілими числами в діапазоні від 1 до 10 та виконайте їхнє поелементне множення."
      ],
      "metadata": {
        "id": "5cQaDOg1cnoe"
      }
    },
    {
      "cell_type": "code",
      "source": [
        "matrix7 = np.random.randint(1, 11, size=(2, 2))\n",
        "matrix8 = np.random.randint(1, 11, size=(2, 2))\n",
        "elementwise_product = np.multiply(matrix7, matrix8)\n",
        "print(\"Поелементне множення двох матриць:\\n\", elementwise_product)"
      ],
      "metadata": {
        "colab": {
          "base_uri": "https://localhost:8080/"
        },
        "id": "9PXtSD-pcw2H",
        "outputId": "cb4a6780-1dc1-4dcb-f861-82315852695f"
      },
      "execution_count": null,
      "outputs": [
        {
          "output_type": "stream",
          "name": "stdout",
          "text": [
            "Поелементне множення двох матриць:\n",
            " [[ 4 15]\n",
            " [40 25]]\n"
          ]
        }
      ]
    },
    {
      "cell_type": "markdown",
      "source": [
        "13. Створіть дві матриці розміром 2x2, заповніть їх випадковими цілими числами в діапазоні від 1 до 10 та знайдіть їх добуток.\n"
      ],
      "metadata": {
        "id": "fsbbSiL0c535"
      }
    },
    {
      "cell_type": "code",
      "source": [
        "matrix9 = np.random.randint(1, 11, size=(2, 2))\n",
        "matrix10 = np.random.randint(1, 11, size=(2, 2))\n",
        "matrix_product = np.dot(matrix9, matrix10)\n",
        "print(\"Добуток двох матриць:\\n\", matrix_product)"
      ],
      "metadata": {
        "colab": {
          "base_uri": "https://localhost:8080/"
        },
        "id": "cMvBlaw_c8g-",
        "outputId": "507344fb-544d-461f-851d-34e05f2330c3"
      },
      "execution_count": null,
      "outputs": [
        {
          "output_type": "stream",
          "name": "stdout",
          "text": [
            "Добуток двох матриць:\n",
            " [[ 31 163]\n",
            " [ 23 104]]\n"
          ]
        }
      ]
    },
    {
      "cell_type": "markdown",
      "source": [
        "14. Створіть матрицю розміром 5x5, заповніть її випадковими цілими числами в діапазоні від 1 до 100 та знайдіть суму елементів матриці.\n"
      ],
      "metadata": {
        "id": "4_8p1PU8dHFW"
      }
    },
    {
      "cell_type": "code",
      "source": [
        "matrix11 = np.random.randint(1, 101, size=(5, 5))\n",
        "matrix_sum = np.sum(matrix11)\n",
        "print(\"Сума елементів матриці:\", matrix_sum)\n"
      ],
      "metadata": {
        "colab": {
          "base_uri": "https://localhost:8080/"
        },
        "id": "iBod0vuxdHoB",
        "outputId": "966e9f2a-bcdd-4184-f6b0-bfd87500c751"
      },
      "execution_count": null,
      "outputs": [
        {
          "output_type": "stream",
          "name": "stdout",
          "text": [
            "Сума елементів матриці: 1248\n"
          ]
        }
      ]
    },
    {
      "cell_type": "markdown",
      "source": [
        "15. Створіть дві матриці розміром 4x4, заповніть їх випадковими цілими числами в діапазоні від 1 до 10 та знайдіть їхню різницю.\n"
      ],
      "metadata": {
        "id": "cgaINsikdM0f"
      }
    },
    {
      "cell_type": "code",
      "source": [
        "matrix12 = np.random.randint(1, 11, size=(4, 4))\n",
        "matrix13 = np.random.randint(1, 11, size=(4, 4))\n",
        "matrix_difference = np.subtract(matrix12, matrix13)\n",
        "print(\"Різниця двох матриць:\\n\", matrix_difference)"
      ],
      "metadata": {
        "colab": {
          "base_uri": "https://localhost:8080/"
        },
        "id": "8OeaxBvgdQOD",
        "outputId": "e6fc1f74-18ee-44b0-a5a5-c259560172f3"
      },
      "execution_count": null,
      "outputs": [
        {
          "output_type": "stream",
          "name": "stdout",
          "text": [
            "Різниця двох матриць:\n",
            " [[ 2  3  2  5]\n",
            " [ 2  4  5 -2]\n",
            " [ 4  0  0  5]\n",
            " [ 7  5 -3  0]]\n"
          ]
        }
      ]
    },
    {
      "cell_type": "markdown",
      "source": [
        "16. Створіть матрицю розміром 3x3, заповніть її випадковими дійсними числами в діапазоні від 0 до 1 та знайдіть вектор-стовпчик, що містить суму елементів кожного рядка матриці.\n"
      ],
      "metadata": {
        "id": "X2vJSUrLdXgB"
      }
    },
    {
      "cell_type": "code",
      "source": [
        "matrix14 = np.random.rand(3, 3)\n",
        "row_sums = np.sum(matrix14, axis=1)\n",
        "column_vector = row_sums.reshape(-1, 1)\n",
        "print(\"Вектор-стовпчик з сумами елементів кожного рядка матриці:\\n\", column_vector)\n"
      ],
      "metadata": {
        "colab": {
          "base_uri": "https://localhost:8080/"
        },
        "id": "SN_K5N9vdXTT",
        "outputId": "88ae6491-fa6c-41fc-ee83-7e87b6c18c58"
      },
      "execution_count": null,
      "outputs": [
        {
          "output_type": "stream",
          "name": "stdout",
          "text": [
            "Вектор-стовпчик з сумами елементів кожного рядка матриці:\n",
            " [[1.44894189]\n",
            " [1.79510875]\n",
            " [1.44281501]]\n"
          ]
        }
      ]
    },
    {
      "cell_type": "markdown",
      "source": [
        "17. Створіть матрицю розміром 3x4 з довільними цілими числами і створінь матрицю з квадратами цих чисел.\n"
      ],
      "metadata": {
        "id": "Q1VWAkYCdz0i"
      }
    },
    {
      "cell_type": "code",
      "source": [
        "matrix15 = np.random.randint(1, 11, size=(3, 4))\n",
        "squared_matrix = np.square(matrix15)\n",
        "print(\"Матриця з квадратами чисел початкової матриці:\\n\", squared_matrix)"
      ],
      "metadata": {
        "colab": {
          "base_uri": "https://localhost:8080/"
        },
        "id": "d4P_XqXJd2C9",
        "outputId": "90a90f92-f34c-4c4b-873b-f840ae234038"
      },
      "execution_count": null,
      "outputs": [
        {
          "output_type": "stream",
          "name": "stdout",
          "text": [
            "Матриця з квадратами чисел початкової матриці:\n",
            " [[ 9  1 36  9]\n",
            " [64 36 81 16]\n",
            " [ 4 36 49  1]]\n"
          ]
        }
      ]
    },
    {
      "cell_type": "markdown",
      "source": [
        "18. Створіть вектор розміром 4, заповніть його випадковими цілими числами в діапазоні від 1 до 50 та знайдіть вектор з квадратними коренями цих чисел.\n"
      ],
      "metadata": {
        "id": "-DFb7jMXeBwL"
      }
    },
    {
      "cell_type": "code",
      "source": [
        "vector5 = np.random.randint(1, 51, size=4)\n",
        "square_root_vector = np.sqrt(vector5)\n",
        "print(\"Вектор з квадратними коренями чисел початкового вектора:\", square_root_vector)"
      ],
      "metadata": {
        "colab": {
          "base_uri": "https://localhost:8080/"
        },
        "id": "IRRZrJe8eEh7",
        "outputId": "03101c7d-eb00-4cde-c975-4437213ebbab"
      },
      "execution_count": null,
      "outputs": [
        {
          "output_type": "stream",
          "name": "stdout",
          "text": [
            "Вектор з квадратними коренями чисел початкового вектора: [4.35889894 2.44948974 6.63324958 3.46410162]\n"
          ]
        }
      ]
    }
  ]
}